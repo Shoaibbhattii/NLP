{
 "cells": [
  {
   "cell_type": "markdown",
   "metadata": {},
   "source": [
    "# NER"
   ]
  },
  {
   "cell_type": "code",
   "execution_count": 1,
   "metadata": {},
   "outputs": [
    {
     "name": "stdout",
     "output_type": "stream",
     "text": [
      "Requirement already satisfied: nltk in c:\\programdata\\anaconda3\\lib\\site-packages (3.4.5)\n",
      "Requirement already satisfied: six in c:\\programdata\\anaconda3\\lib\\site-packages (from nltk) (1.12.0)\n",
      "Note: you may need to restart the kernel to use updated packages.\n"
     ]
    }
   ],
   "source": [
    "pip install nltk"
   ]
  },
  {
   "cell_type": "code",
   "execution_count": 2,
   "metadata": {},
   "outputs": [
    {
     "name": "stderr",
     "output_type": "stream",
     "text": [
      "[nltk_data] Downloading package punkt to\n",
      "[nltk_data]     C:\\Users\\User\\AppData\\Roaming\\nltk_data...\n",
      "[nltk_data]   Package punkt is already up-to-date!\n",
      "[nltk_data] Downloading package averaged_perceptron_tagger to\n",
      "[nltk_data]     C:\\Users\\User\\AppData\\Roaming\\nltk_data...\n",
      "[nltk_data]   Package averaged_perceptron_tagger is already up-to-\n",
      "[nltk_data]       date!\n",
      "[nltk_data] Downloading package maxent_ne_chunker to\n",
      "[nltk_data]     C:\\Users\\User\\AppData\\Roaming\\nltk_data...\n",
      "[nltk_data]   Package maxent_ne_chunker is already up-to-date!\n",
      "[nltk_data] Downloading package words to\n",
      "[nltk_data]     C:\\Users\\User\\AppData\\Roaming\\nltk_data...\n",
      "[nltk_data]   Package words is already up-to-date!\n"
     ]
    },
    {
     "data": {
      "text/plain": [
       "True"
      ]
     },
     "execution_count": 2,
     "metadata": {},
     "output_type": "execute_result"
    }
   ],
   "source": [
    "import nltk\n",
    "nltk.download('punkt')\n",
    "nltk.download('averaged_perceptron_tagger')\n",
    "nltk.download('maxent_ne_chunker')\n",
    "nltk.download('words')\n"
   ]
  },
  {
   "cell_type": "code",
   "execution_count": null,
   "metadata": {},
   "outputs": [],
   "source": [
    "import nltk\n",
    "from nltk import word_tokenize, pos_tag, ne_chunk\n",
    "from nltk.tokenize import sent_tokenize\n",
    "\n",
    "# Sample text for analysis\n",
    "text = \"\"\"\n",
    "\n",
    "\"\"\"\n",
    "\n",
    "# Tokenize the text into sentences\n",
    "sentences = sent_tokenize(text)\n",
    "\n",
    "# Initialize named entity recognition variables\n",
    "all_entities = []\n",
    "unique_entities = set()\n",
    "\n",
    "# Process each sentence for Named Entity Recognition\n",
    "for sentence in sentences:\n",
    "    # Tokenize the sentence into words\n",
    "    words = word_tokenize(sentence)\n",
    "    \n",
    "    # Perform Part-of-Speech tagging\n",
    "    pos_tags = pos_tag(words)\n",
    "    \n",
    "    # Perform Named Entity Recognition\n",
    "    chunks = ne_chunk(pos_tags)\n",
    "    \n",
    "    # Extract entities and add to list\n",
    "    entities = []\n",
    "    for chunk in chunks:\n",
    "        if hasattr(chunk, 'label'):\n",
    "            entities.append((' '.join(c[0] for c in chunk), chunk.label()))\n",
    "            unique_entities.add((' '.join(c[0] for c in chunk), chunk.label()))\n",
    "    \n",
    "    # Append entities found in the current sentence to the list of all entities\n",
    "    all_entities.extend(entities)\n",
    "    \n",
    "    # Print entities found in the current sentence\n",
    "    if entities:\n",
    "        print(f\"Entities found in the sentence:\")\n",
    "        for entity, entity_type in entities:\n",
    "            print(f\" - Entity: {entity}, Type: {entity_type}\")\n",
    "        print()\n",
    "\n",
    "# Print all unique entities found in the entire text\n",
    "if unique_entities:\n",
    "    print(f\"Unique entities found in the entire text:\")\n",
    "    for entity, entity_type in unique_entities:\n",
    "        print(f\" - Entity: {entity}, Type: {entity_type}\")\n",
    "    print()\n",
    "\n",
    "\n",
    "\n",
    "# End of script\n",
    "print(\"Named Entity Recognition completed successfully.\")\n"
   ]
  },
  {
   "cell_type": "code",
   "execution_count": null,
   "metadata": {},
   "outputs": [],
   "source": [
    "import nltk\n",
    "from nltk import word_tokenize, pos_tag, ne_chunk\n",
    "from nltk.tokenize import sent_tokenize\n",
    "\n",
    "# Sample text for analysis\n",
    "text = \"\"\"\n",
    "\n",
    "\"\"\"\n",
    "\n",
    "# Tokenize the text into sentences\n",
    "sentences = sent_tokenize(text)\n",
    "\n",
    "# Initialize named entity recognition variables\n",
    "all_entities = []\n",
    "unique_entities = set()\n",
    "\n",
    "# Define a function to customize NE recognition\n",
    "def custom_ne_chunk(tagged_tokens):\n",
    "    chunked = ne_chunk(tagged_tokens)\n",
    "    entities = []\n",
    "    for chunk in chunked:\n",
    "        if hasattr(chunk, 'label'):\n",
    "            # Check if it's a PERSON or ORGANIZATION based on label\n",
    "            if chunk.label() == 'PERSON':\n",
    "                entities.append((' '.join(c[0] for c in chunk), 'PERSON'))\n",
    "            elif chunk.label() == 'ORGANIZATION':\n",
    "                # Check specific terms that should not be ORGANIZATION\n",
    "                if ' '.join(c[0] for c in chunk).lower() in ['data scientist', 'data engineer']:\n",
    "                    entities.append((' '.join(c[0] for c in chunk), 'OCCUPATION'))\n",
    "                else:\n",
    "                    entities.append((' '.join(c[0] for c in chunk), 'ORGANIZATION'))\n",
    "            else:\n",
    "                entities.append((' '.join(c[0] for c in chunk), chunk.label()))\n",
    "            unique_entities.add((' '.join(c[0] for c in chunk), chunk.label()))\n",
    "    return entities\n",
    "\n",
    "# Process each sentence for Named Entity Recognition\n",
    "for sentence in sentences:\n",
    "    # Tokenize the sentence into words\n",
    "    words = word_tokenize(sentence)\n",
    "    \n",
    "    # Perform Part-of-Speech tagging\n",
    "    pos_tags = pos_tag(words)\n",
    "    \n",
    "    # Perform Named Entity Recognition with custom function\n",
    "    entities = custom_ne_chunk(pos_tags)\n",
    "    \n",
    "    # Append entities found in the current sentence to the list of all entities\n",
    "    all_entities.extend(entities)\n",
    "    \n",
    "    # Print entities found in the current sentence\n",
    "    if entities:\n",
    "        print(f\"Entities found in the sentence:\")\n",
    "        for entity, entity_type in entities:\n",
    "            print(f\" - Entity: {entity}, Type: {entity_type}\")\n",
    "        print()\n",
    "\n",
    "print(\"Named Entity Recognition completed successfully.\")\n"
   ]
  }
 ],
 "metadata": {
  "kernelspec": {
   "display_name": "Python 3",
   "language": "python",
   "name": "python3"
  },
  "language_info": {
   "codemirror_mode": {
    "name": "ipython",
    "version": 3
   },
   "file_extension": ".py",
   "mimetype": "text/x-python",
   "name": "python",
   "nbconvert_exporter": "python",
   "pygments_lexer": "ipython3",
   "version": "3.7.4"
  }
 },
 "nbformat": 4,
 "nbformat_minor": 2
}
