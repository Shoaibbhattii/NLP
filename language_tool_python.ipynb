{
 "cells": [
  {
   "cell_type": "code",
   "execution_count": 1,
   "id": "9bc97e22",
   "metadata": {},
   "outputs": [],
   "source": [
    "import language_tool_python"
   ]
  },
  {
   "cell_type": "code",
   "execution_count": 2,
   "id": "09825310",
   "metadata": {},
   "outputs": [
    {
     "name": "stdout",
     "output_type": "stream",
     "text": [
      "Enter a sentence: This is a fun lab. I enjoy it a lot.\n",
      "The sentence is grammatically correct.\n"
     ]
    }
   ],
   "source": [
    "def is_grammatically_correct(sentence):\n",
    "    tool = language_tool_python.LanguageTool('en-US')\n",
    "    matches = tool.check(sentence)\n",
    "\n",
    "    return len(matches) == 0\n",
    "\n",
    "sentence = input(\"Enter a sentence: \")\n",
    "\n",
    "if is_grammatically_correct(sentence):\n",
    "    print(\"The sentence is grammatically correct.\")\n",
    "else:\n",
    "    print(\"The sentence contains grammatical errors.\")"
   ]
  },
  {
   "cell_type": "code",
   "execution_count": 3,
   "id": "67753ce1",
   "metadata": {},
   "outputs": [
    {
     "name": "stdout",
     "output_type": "stream",
     "text": [
      "Enter a sentence: This is not a funning lab. \n",
      "The sentence contains grammatical errors.\n"
     ]
    }
   ],
   "source": [
    "def is_grammatically_correct(sentence):\n",
    "    tool = language_tool_python.LanguageTool('en-US')\n",
    "    matches = tool.check(sentence)\n",
    "\n",
    "    return len(matches) == 0\n",
    "\n",
    "sentence = input(\"Enter a sentence: \")\n",
    "\n",
    "\n",
    "if is_grammatically_correct(sentence):\n",
    "    print(\"The sentence is grammatically correct.\")\n",
    "else:\n",
    "    print(\"The sentence contains grammatical errors.\")\n"
   ]
  }
 ],
 "metadata": {
  "kernelspec": {
   "display_name": "Python 3 (ipykernel)",
   "language": "python",
   "name": "python3"
  },
  "language_info": {
   "codemirror_mode": {
    "name": "ipython",
    "version": 3
   },
   "file_extension": ".py",
   "mimetype": "text/x-python",
   "name": "python",
   "nbconvert_exporter": "python",
   "pygments_lexer": "ipython3",
   "version": "3.11.5"
  }
 },
 "nbformat": 4,
 "nbformat_minor": 5
}
