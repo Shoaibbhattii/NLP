{
 "cells": [
  {
   "cell_type": "code",
   "execution_count": 1,
   "id": "bd2617e9",
   "metadata": {},
   "outputs": [
    {
     "name": "stderr",
     "output_type": "stream",
     "text": [
      "[nltk_data] Downloading package punkt to\n",
      "[nltk_data]     C:\\Users\\Administrator\\AppData\\Roaming\\nltk_data...\n",
      "[nltk_data]   Package punkt is already up-to-date!\n"
     ]
    },
    {
     "data": {
      "text/plain": [
       "True"
      ]
     },
     "execution_count": 1,
     "metadata": {},
     "output_type": "execute_result"
    }
   ],
   "source": [
    "import nltk\n",
    "from collections import defaultdict\n",
    "nltk.download('punkt')"
   ]
  },
  {
   "cell_type": "code",
   "execution_count": 18,
   "id": "662434b3",
   "metadata": {},
   "outputs": [],
   "source": [
    "dataset = [\"<s> I am Student </s>\", \"<s> Student I am </s>\", \"<s> I do not like green oranges with milk </s>\"]"
   ]
  },
  {
   "cell_type": "markdown",
   "id": "37f84818",
   "metadata": {},
   "source": [
    "# UNIGRAM"
   ]
  },
  {
   "cell_type": "code",
   "execution_count": 19,
   "id": "39924bc2",
   "metadata": {},
   "outputs": [
    {
     "name": "stdout",
     "output_type": "stream",
     "text": [
      "Unigram Model:\n",
      " Counter({'<': 6, '>': 6, 's': 3, 'I': 3, '/s': 3, 'am': 2, 'Student': 2, 'do': 1, 'not': 1, 'like': 1, 'green': 1, 'oranges': 1, 'with': 1, 'milk': 1})\n"
     ]
    }
   ],
   "source": [
    "tokens = []\n",
    "for sentence in dataset:\n",
    "    sentence = sentence.replace(\"<s>\", \"<s>\").replace(\"</s>\", \"</s>\")\n",
    "    tokens.extend(nltk.word_tokenize(sentence))\n",
    "\n",
    "unigram_model = Counter(tokens)\n",
    "\n",
    "print(\"Unigram Model:\\n\", unigram_model)"
   ]
  },
  {
   "cell_type": "markdown",
   "id": "1f0c8432",
   "metadata": {},
   "source": [
    "# BIGRAM"
   ]
  },
  {
   "cell_type": "code",
   "execution_count": 20,
   "id": "8465d2b4",
   "metadata": {},
   "outputs": [
    {
     "name": "stdout",
     "output_type": "stream",
     "text": [
      "Bigram Model:\n",
      " Counter({('<', 's'): 3, ('s', '>'): 3, ('<', '/s'): 3, ('/s', '>'): 3, ('>', 'I'): 2, ('I', 'am'): 2, ('>', '<'): 2, ('am', 'Student'): 1, ('Student', '<'): 1, ('>', 'Student'): 1, ('Student', 'I'): 1, ('am', '<'): 1, ('I', 'do'): 1, ('do', 'not'): 1, ('not', 'like'): 1, ('like', 'green'): 1, ('green', 'oranges'): 1, ('oranges', 'with'): 1, ('with', 'milk'): 1, ('milk', '<'): 1})\n"
     ]
    }
   ],
   "source": [
    "tokens = []\n",
    "for sentence in dataset:\n",
    "    sentence = sentence.replace(\"<s>\", \"<s>\").replace(\"</s>\", \"</s>\")\n",
    "    tokens.extend(nltk.word_tokenize(sentence))\n",
    "\n",
    "bigrams = list(nltk.bigrams(tokens))\n",
    "bigram_model = Counter(bigrams)\n",
    "\n",
    "print(\"Bigram Model:\\n\", bigram_model)"
   ]
  },
  {
   "cell_type": "markdown",
   "id": "5666c215",
   "metadata": {},
   "source": [
    "# TRIGRAM"
   ]
  },
  {
   "cell_type": "code",
   "execution_count": 21,
   "id": "8f58fd52",
   "metadata": {},
   "outputs": [
    {
     "name": "stdout",
     "output_type": "stream",
     "text": [
      "Trigram Model:\n",
      " Counter({('<', 's', '>'): 3, ('<', '/s', '>'): 3, ('s', '>', 'I'): 2, ('/s', '>', '<'): 2, ('>', '<', 's'): 2, ('>', 'I', 'am'): 1, ('I', 'am', 'Student'): 1, ('am', 'Student', '<'): 1, ('Student', '<', '/s'): 1, ('s', '>', 'Student'): 1, ('>', 'Student', 'I'): 1, ('Student', 'I', 'am'): 1, ('I', 'am', '<'): 1, ('am', '<', '/s'): 1, ('>', 'I', 'do'): 1, ('I', 'do', 'not'): 1, ('do', 'not', 'like'): 1, ('not', 'like', 'green'): 1, ('like', 'green', 'oranges'): 1, ('green', 'oranges', 'with'): 1, ('oranges', 'with', 'milk'): 1, ('with', 'milk', '<'): 1, ('milk', '<', '/s'): 1})\n"
     ]
    }
   ],
   "source": [
    "tokens = []\n",
    "for sentence in dataset:\n",
    "    sentence = sentence.replace(\"<s>\", \"<s>\").replace(\"</s>\", \"</s>\")\n",
    "    tokens.extend(nltk.word_tokenize(sentence))\n",
    "\n",
    "trigrams = list(nltk.trigrams(tokens))\n",
    "trigram_model = Counter(trigrams)\n",
    "\n",
    "print(\"Trigram Model:\\n\", trigram_model)"
   ]
  }
 ],
 "metadata": {
  "kernelspec": {
   "display_name": "Python 3 (ipykernel)",
   "language": "python",
   "name": "python3"
  },
  "language_info": {
   "codemirror_mode": {
    "name": "ipython",
    "version": 3
   },
   "file_extension": ".py",
   "mimetype": "text/x-python",
   "name": "python",
   "nbconvert_exporter": "python",
   "pygments_lexer": "ipython3",
   "version": "3.11.5"
  }
 },
 "nbformat": 4,
 "nbformat_minor": 5
}
