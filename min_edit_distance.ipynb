{
 "cells": [
  {
   "cell_type": "code",
   "execution_count": 9,
   "id": "c1c68afb",
   "metadata": {},
   "outputs": [
    {
     "name": "stdout",
     "output_type": "stream",
     "text": [
      "Minimum Edit Distance: 4\n"
     ]
    }
   ],
   "source": [
    "def min_edit_distance(X, Y):\n",
    "    m = len(X)\n",
    "    n = len(Y)\n",
    "    dp = [[0 for _ in range(n+1)] for _ in range(m+1)]\n",
    "    \n",
    "    for i in range(m+1):\n",
    "        for j in range(n+1):\n",
    "            if i == 0:\n",
    "                dp[i][j] = j\n",
    "            elif j == 0:\n",
    "                dp[i][j] = i\n",
    "            elif X[i-1] == Y[j-1]:\n",
    "                dp[i][j] = dp[i-1][j-1]\n",
    "            else:\n",
    "                dp[i][j] = 1 + min(dp[i][j-1], dp[i-1][j], dp[i-1][j-1])\n",
    "\n",
    "    return dp[m][n]\n",
    "\n",
    "# Test the function with given strings\n",
    "X = \"abcd\"\n",
    "Y = \"dcba\"\n",
    "print(\"Minimum Edit Distance:\", min_edit_distance(X, Y))\n"
   ]
  },
  {
   "cell_type": "code",
   "execution_count": 10,
   "id": "7badcb3c",
   "metadata": {},
   "outputs": [
    {
     "name": "stdout",
     "output_type": "stream",
     "text": [
      "Operations: {'Substitute': 4, 'Insert': 0, 'Delete': 0}\n"
     ]
    }
   ],
   "source": [
    "def min_edit_distance_operations(X, Y):\n",
    "    m = len(X)\n",
    "    n = len(Y)\n",
    "    dp = [[0 for _ in range(n+1)] for _ in range(m+1)]\n",
    "    \n",
    "    for i in range(m+1):\n",
    "        for j in range(n+1):\n",
    "            if i == 0:\n",
    "                dp[i][j] = j\n",
    "            elif j == 0:\n",
    "                dp[i][j] = i\n",
    "            elif X[i-1] == Y[j-1]:\n",
    "                dp[i][j] = dp[i-1][j-1]\n",
    "            else:\n",
    "                dp[i][j] = 1 + min(dp[i][j-1], dp[i-1][j], dp[i-1][j-1])\n",
    "\n",
    "    i, j = m, n\n",
    "    operations = {\"Substitute\": 0, \"Insert\": 0, \"Delete\": 0}\n",
    "    \n",
    "    while i > 0 or j > 0:\n",
    "        if i > 0 and j > 0 and X[i-1] == Y[j-1]:\n",
    "            i -= 1\n",
    "            j -= 1\n",
    "        elif i > 0 and j > 0 and dp[i][j] == dp[i-1][j-1] + 1:\n",
    "            operations[\"Substitute\"] += 1\n",
    "            i -= 1\n",
    "            j -= 1\n",
    "        elif i > 0 and dp[i][j] == dp[i-1][j] + 1:\n",
    "            operations[\"Delete\"] += 1\n",
    "            i -= 1\n",
    "        elif j > 0 and dp[i][j] == dp[i][j-1] + 1:\n",
    "            operations[\"Insert\"] += 1\n",
    "            j -= 1\n",
    "\n",
    "    return operations\n",
    "\n",
    "# Test the function with given strings\n",
    "X = \"abcd\"\n",
    "Y = \"dcba\"\n",
    "print(\"Operations:\", min_edit_distance_operations(X, Y))\n"
   ]
  },
  {
   "cell_type": "code",
   "execution_count": null,
   "id": "e1f1fd03",
   "metadata": {},
   "outputs": [],
   "source": []
  }
 ],
 "metadata": {
  "kernelspec": {
   "display_name": "Python 3 (ipykernel)",
   "language": "python",
   "name": "python3"
  },
  "language_info": {
   "codemirror_mode": {
    "name": "ipython",
    "version": 3
   },
   "file_extension": ".py",
   "mimetype": "text/x-python",
   "name": "python",
   "nbconvert_exporter": "python",
   "pygments_lexer": "ipython3",
   "version": "3.11.5"
  }
 },
 "nbformat": 4,
 "nbformat_minor": 5
}
