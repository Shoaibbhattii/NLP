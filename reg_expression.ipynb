{
 "cells": [
  {
   "cell_type": "markdown",
   "metadata": {},
   "source": [
    "# Regular Expressions Examples"
   ]
  },
  {
   "cell_type": "markdown",
   "metadata": {},
   "source": [
    "## Methods search() and sub()\n",
    "\n",
    "### The re.search() function performs regular expression-based string searching.\n",
    "### The re.sub() function performs regular expression-based string substitutions.\n",
    "### \n",
    "#### 1. Does the string \"Space\" contain a, b, or c? Yes, it contains a and c.\n",
    "#### if two letters are there in the string than it will detect and show first letter location in the string."
   ]
  },
  {
   "cell_type": "code",
   "execution_count": 1,
   "metadata": {},
   "outputs": [
    {
     "data": {
      "text/plain": [
       "<re.Match object; span=(2, 3), match='a'>"
      ]
     },
     "execution_count": 1,
     "metadata": {},
     "output_type": "execute_result"
    }
   ],
   "source": [
    "import re\n",
    "re.search('[abc]', 'Space')"
   ]
  },
  {
   "cell_type": "code",
   "execution_count": 2,
   "metadata": {},
   "outputs": [
    {
     "data": {
      "text/plain": [
       "<re.Match object; span=(4, 5), match='e'>"
      ]
     },
     "execution_count": 2,
     "metadata": {},
     "output_type": "execute_result"
    }
   ],
   "source": [
    "re.search('[ate]', 'h The The Space')"
   ]
  },
  {
   "cell_type": "markdown",
   "metadata": {},
   "source": [
    "#### 2. OK, now find a, b, or c, and replace it with o. Space becomes Spooe."
   ]
  },
  {
   "cell_type": "code",
   "execution_count": 3,
   "metadata": {},
   "outputs": [
    {
     "data": {
      "text/plain": [
       "'Spooe'"
      ]
     },
     "execution_count": 3,
     "metadata": {},
     "output_type": "execute_result"
    }
   ],
   "source": [
    "re.sub('[abc]', 'o', 'Space')"
   ]
  },
  {
   "cell_type": "markdown",
   "metadata": {},
   "source": [
    " ### Let's take the output of search() and use it as an input of sub() to replace."
   ]
  },
  {
   "cell_type": "markdown",
   "metadata": {},
   "source": [
    "#### 3. Let's take the output and use it as an input to replace a, e, or u with n.\n",
    "#### 4. As a result, the Space turuet into a Spoon."
   ]
  },
  {
   "cell_type": "code",
   "execution_count": 4,
   "metadata": {
    "scrolled": true
   },
   "outputs": [
    {
     "data": {
      "text/plain": [
       "'Spooe'"
      ]
     },
     "execution_count": 4,
     "metadata": {},
     "output_type": "execute_result"
    }
   ],
   "source": [
    "re.sub('[abc]', 'o', 'Space')"
   ]
  },
  {
   "cell_type": "code",
   "execution_count": 5,
   "metadata": {},
   "outputs": [
    {
     "data": {
      "text/plain": [
       "'Spoon'"
      ]
     },
     "execution_count": 5,
     "metadata": {},
     "output_type": "execute_result"
    }
   ],
   "source": [
    "re.sub('[aeu]', 'n', 'Spooe')"
   ]
  },
  {
   "cell_type": "markdown",
   "metadata": {},
   "source": [
    "### It can be done directly as well"
   ]
  },
  {
   "cell_type": "code",
   "execution_count": 6,
   "metadata": {},
   "outputs": [
    {
     "data": {
      "text/plain": [
       "'Spoon'"
      ]
     },
     "execution_count": 6,
     "metadata": {},
     "output_type": "execute_result"
    }
   ],
   "source": [
    "re.sub('[aeu]', 'n', re.sub('[abc]', 'o', 'Space'))"
   ]
  },
  {
   "cell_type": "markdown",
   "metadata": {},
   "source": [
    "## Practice\n",
    "\n",
    "### $ symbol is used to find end of sentence/text"
   ]
  },
  {
   "cell_type": "code",
   "execution_count": 7,
   "metadata": {},
   "outputs": [
    {
     "data": {
      "text/plain": [
       "<re.Match object; span=(7, 9), match='cy'>"
      ]
     },
     "execution_count": 7,
     "metadata": {},
     "output_type": "execute_result"
    }
   ],
   "source": [
    "import re\n",
    "re.search('[c]y$', 'emergency')"
   ]
  },
  {
   "cell_type": "code",
   "execution_count": 8,
   "metadata": {},
   "outputs": [
    {
     "data": {
      "text/plain": [
       "<re.Match object; span=(3, 5), match='cy'>"
      ]
     },
     "execution_count": 8,
     "metadata": {},
     "output_type": "execute_result"
    }
   ],
   "source": [
    "import re\n",
    "re.search('[c]y$', 'fancy')"
   ]
  },
  {
   "cell_type": "code",
   "execution_count": 9,
   "metadata": {},
   "outputs": [
    {
     "data": {
      "text/plain": [
       "<re.Match object; span=(7, 9), match='ey'>"
      ]
     },
     "execution_count": 9,
     "metadata": {},
     "output_type": "execute_result"
    }
   ],
   "source": [
    "re.search('[^c]y$', 'emergeney')"
   ]
  },
  {
   "cell_type": "code",
   "execution_count": 10,
   "metadata": {},
   "outputs": [
    {
     "data": {
      "text/plain": [
       "<re.Match object; span=(7, 9), match='cy'>"
      ]
     },
     "execution_count": 10,
     "metadata": {},
     "output_type": "execute_result"
    }
   ],
   "source": [
    "re.search('[^aeiou]y$', 'emergency')"
   ]
  },
  {
   "cell_type": "code",
   "execution_count": 11,
   "metadata": {},
   "outputs": [
    {
     "data": {
      "text/plain": [
       "<re.Match object; span=(1, 3), match='oy'>"
      ]
     },
     "execution_count": 11,
     "metadata": {},
     "output_type": "execute_result"
    }
   ],
   "source": [
    "re.search('[aeiou]y$', 'toy')"
   ]
  },
  {
   "cell_type": "markdown",
   "metadata": {},
   "source": [
    "## Another Example"
   ]
  },
  {
   "cell_type": "code",
   "execution_count": 12,
   "metadata": {},
   "outputs": [
    {
     "data": {
      "text/plain": [
       "'emergencies'"
      ]
     },
     "execution_count": 12,
     "metadata": {},
     "output_type": "execute_result"
    }
   ],
   "source": [
    "re.sub('y$', 'ies', 'emergency')"
   ]
  },
  {
   "cell_type": "code",
   "execution_count": 13,
   "metadata": {},
   "outputs": [
    {
     "data": {
      "text/plain": [
       "'semitransparency ies'"
      ]
     },
     "execution_count": 13,
     "metadata": {},
     "output_type": "execute_result"
    }
   ],
   "source": [
    "re.sub('y$', 'ies', 'semitransparency y')"
   ]
  },
  {
   "cell_type": "markdown",
   "metadata": {},
   "source": [
    "#### It is possible to combine these two regular expressions (one to find out if the rule applies, and another to actually apply it) into a single regular expression.\n",
    "#### Here's what that would look like. We're using a remembered group. The group is used to remember the character before the letter y. Then in the substitution string, we use a new syntax, \\1, which means, that first group we remembered? put it right here. \n",
    "#### In this case, we remember the c before the y; when we do the substitution, we substitute c in place of c, and ies in place of y. (If we have more than one remembered group, we can use \\2 and \\3 and so on.)"
   ]
  },
  {
   "cell_type": "code",
   "execution_count": 18,
   "metadata": {},
   "outputs": [
    {
     "data": {
      "text/plain": [
       "'emergencies'"
      ]
     },
     "execution_count": 18,
     "metadata": {},
     "output_type": "execute_result"
    }
   ],
   "source": [
    "re.sub('([c])y$', r'\\1ies', 'emergency')"
   ]
  },
  {
   "cell_type": "markdown",
   "metadata": {},
   "source": [
    " This code seraches for c that ends with y at the end. Then it will be replaced with ies where it matches that condition."
   ]
  },
  {
   "cell_type": "code",
   "execution_count": 15,
   "metadata": {},
   "outputs": [
    {
     "data": {
      "text/plain": [
       "'emergencies'"
      ]
     },
     "execution_count": 15,
     "metadata": {},
     "output_type": "execute_result"
    }
   ],
   "source": [
    "re.sub('([^aeiou])y$', r'\\1ies', 'emergency')"
   ]
  },
  {
   "cell_type": "markdown",
   "metadata": {},
   "source": [
    "This line matches any character that is avaiable except aeiou and end with y. since there in a non vowel c in the word and it is also ending with y it will replace it ies hence emergencies."
   ]
  },
  {
   "cell_type": "markdown",
   "metadata": {},
   "source": [
    "## Another Example to find Cell Number"
   ]
  },
  {
   "cell_type": "code",
   "execution_count": 16,
   "metadata": {},
   "outputs": [
    {
     "data": {
      "text/plain": [
       "<re.Match object; span=(34, 46), match='416-111-1234'>"
      ]
     },
     "execution_count": 16,
     "metadata": {},
     "output_type": "execute_result"
    }
   ],
   "source": [
    "re.search('\\d\\d\\d-\\d\\d\\d-\\d\\d\\d\\d', 'My cell number is 46-111-2958 and 416-111-1234')"
   ]
  },
  {
   "cell_type": "markdown",
   "metadata": {},
   "source": [
    "In this code we are searching for a specific pattern that matches the format. \n",
    "Where it matches that format it captures it and mentions its span"
   ]
  },
  {
   "cell_type": "markdown",
   "metadata": {},
   "source": [
    "## Example: IP address substitution in Python script"
   ]
  },
  {
   "cell_type": "code",
   "execution_count": 17,
   "metadata": {},
   "outputs": [
    {
     "name": "stdout",
     "output_type": "stream",
     "text": [
      "replaced = The IPs are 127.0.0.1 and 127.0.0.1\n"
     ]
    }
   ],
   "source": [
    "import re\n",
    "\n",
    "ipaddress_old = 'The IPs are 148.254.28.128 and 164.81.18.94'\n",
    "\n",
    "pattern = re.compile(r'\\b(?:[0-9]{1,3}\\.){3}[0-9]{1,3}\\b')\n",
    "\n",
    "ipaddress_new = '127.0.0.1'\n",
    "\n",
    "replaced = re.sub(pattern, ipaddress_new, ipaddress_old)\n",
    "\n",
    "print('replaced = %s' %(replaced))"
   ]
  },
  {
   "cell_type": "markdown",
   "metadata": {},
   "source": [
    "In this code we are passing a string which has ip addresses in it and is saved in the ipaddress_old variable. \n",
    "In the next line we are deffining a specific pattern that matches the IP address and are saving it in pattern variable.\n",
    "ipaddress_new contains the new ipaddres that will be replaced.\n",
    "we use re.sub function to match tha pattren in the in old string and then once that pattern matches it will replace the ip address."
   ]
  },
  {
   "cell_type": "code",
   "execution_count": 1,
   "metadata": {},
   "outputs": [
    {
     "name": "stdout",
     "output_type": "stream",
     "text": [
      "Emails: ['shoaibbhatti@gmail.com']\n",
      "Cell Numbers: ['03332691999']\n",
      "CNIC Numbers: ['12345-1234567-1']\n",
      "UET IDs: []\n",
      "Passwords: ['Password']\n"
     ]
    }
   ],
   "source": [
    "import re\n",
    "\n",
    "sample_text = \"\"\"\n",
    "Email: shoaibbhatti@gmail.com\n",
    "Cell No: 03332691999\n",
    "CNIC: 12345-1234567-1\n",
    "UET ID: DS-0120/2022\n",
    "Password: my_secure_password123\n",
    "\"\"\"\n",
    "\n",
    "# Regular expressions for different patterns\n",
    "email_pattern = r'\\b[A-Za-z0-9._%+-]+@[A-Za-z0-9.-]+\\.[A-Z|a-z]{2,}\\b'\n",
    "cell_no_pattern = r'\\b03[0-9]{9}\\b'\n",
    "cnic_pattern = r'\\b[0-9]{5}-[0-9]{7}-[0-9]\\b'\n",
    "uet_id_pattern = r'\\b(DS|CS)-[0-9]{3}/[0-9]{4}\\b'\n",
    "password_pattern = r'\\b(?=.*[a-z])(?=.*[A-Z])(?=.*\\d)[A-Za-z\\d]{8,}\\b'\n",
    "\n",
    "\n",
    "emails = re.findall(email_pattern, sample_text)\n",
    "cell_nos = re.findall(cell_no_pattern, sample_text)\n",
    "cnic_numbers = re.findall(cnic_pattern, sample_text)\n",
    "uet_ids = re.findall(uet_id_pattern, sample_text)\n",
    "passwords = re.findall(password_pattern, sample_text)\n",
    "\n",
    "\n",
    "print(\"Emails:\", emails)\n",
    "print(\"Cell Numbers:\", cell_nos)\n",
    "print(\"CNIC Numbers:\", cnic_numbers)\n",
    "print(\"UET IDs:\", uet_ids)\n",
    "print(\"Passwords:\", passwords)\n"
   ]
  }
 ],
 "metadata": {
  "kernelspec": {
   "display_name": "Python 3 (ipykernel)",
   "language": "python",
   "name": "python3"
  },
  "language_info": {
   "codemirror_mode": {
    "name": "ipython",
    "version": 3
   },
   "file_extension": ".py",
   "mimetype": "text/x-python",
   "name": "python",
   "nbconvert_exporter": "python",
   "pygments_lexer": "ipython3",
   "version": "3.12.1"
  }
 },
 "nbformat": 4,
 "nbformat_minor": 4
}
