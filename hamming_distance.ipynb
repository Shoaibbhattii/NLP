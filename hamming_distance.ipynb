{
 "cells": [
  {
   "cell_type": "code",
   "execution_count": 2,
   "id": "c1c68afb",
   "metadata": {},
   "outputs": [
    {
     "name": "stdout",
     "output_type": "stream",
     "text": [
      "The Hamming distance between 'intention' and 'execution' is: 5\n"
     ]
    }
   ],
   "source": [
    "def hamming_distance(s1, s2):\n",
    "    # Check if strings have equal length\n",
    "    if len(s1) != len(s2):\n",
    "        raise ValueError(\"Strings must be of equal length\")\n",
    "\n",
    "    # Initialize distance counter\n",
    "    distance = 0\n",
    "\n",
    "    # Calculate Hamming distance\n",
    "    for char1, char2 in zip(s1, s2):\n",
    "        if char1 != char2:\n",
    "            distance += 1\n",
    "\n",
    "    return distance\n",
    "\n",
    "# Example usage\n",
    "string1 = \"intention\"\n",
    "string2 = \"execution\"\n",
    "\n",
    "try:\n",
    "    distance = hamming_distance(string1, string2)\n",
    "    print(f\"The Hamming distance between '{string1}' and '{string2}' is: {distance}\")\n",
    "except ValueError as e:\n",
    "    print(e)\n"
   ]
  }
 ],
 "metadata": {
  "kernelspec": {
   "display_name": "Python 3 (ipykernel)",
   "language": "python",
   "name": "python3"
  },
  "language_info": {
   "codemirror_mode": {
    "name": "ipython",
    "version": 3
   },
   "file_extension": ".py",
   "mimetype": "text/x-python",
   "name": "python",
   "nbconvert_exporter": "python",
   "pygments_lexer": "ipython3",
   "version": "3.11.5"
  }
 },
 "nbformat": 4,
 "nbformat_minor": 5
}
