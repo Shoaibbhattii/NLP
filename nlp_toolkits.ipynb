{
 "cells": [
  {
   "cell_type": "markdown",
   "id": "54a6a073",
   "metadata": {},
   "source": [
    "Below are the codes below for the models.I am using windows machine I am having diffculty installing the toolkits\n",
    "and since these are better supported and ubuntu OS. We just need to install the toolkits on and give there path at: srilm_path, irstlm_path, kenlm_path and cmu_slm_path respectively and re run the codes. \n",
    "\n",
    "These models do the following:\n",
    "SRILM: A toolkit for building and manipulating statistical language models, used for tasks like speech recognition and text processing.\n",
    "\n",
    "IRSTLM: A software package for constructing and using language models, primarily in speech and language processing applications.\n",
    "\n",
    "KenLM: A fast and memory-efficient toolkit for creating and querying large n-gram language models, often used in machine translation and speech recognition.\n",
    "\n",
    "CMU SLM: A toolkit designed for building and manipulating n-gram language models, with tools for training, evaluation, and various text processing tasks."
   ]
  },
  {
   "cell_type": "markdown",
   "id": "f3330f89",
   "metadata": {},
   "source": [
    "# SRILM"
   ]
  },
  {
   "cell_type": "code",
   "execution_count": 7,
   "id": "0f27f782",
   "metadata": {},
   "outputs": [
    {
     "name": "stdout",
     "output_type": "stream",
     "text": [
      "SRILM language model created at srilm_bigram.lm\n"
     ]
    }
   ],
   "source": [
    "import os\n",
    "\n",
    "def create_srilm_lm(input_file, output_file, order=2):\n",
    "    # Ensure SRILM binaries are in your PATH\n",
    "    srilm_path = \"/path/to/srilm/bin/i686-m64\"  # Update this path to SRILM installation path\n",
    "    os.environ[\"PATH\"] += os.pathsep + srilm_path\n",
    "\n",
    "    # Build the language model\n",
    "    os.system(f\"ngram-count -text {input_file} -order {order} -lm {output_file}\")\n",
    "\n",
    "    print(f\"SRILM language model created at {output_file}\")\n",
    "\n",
    "# Example usage\n",
    "create_srilm_lm('example_text.txt', 'srilm_bigram.lm')\n"
   ]
  },
  {
   "cell_type": "markdown",
   "id": "74b04a39",
   "metadata": {},
   "source": [
    "# IRSTLM"
   ]
  },
  {
   "cell_type": "code",
   "execution_count": 11,
   "id": "98478455",
   "metadata": {},
   "outputs": [
    {
     "name": "stdout",
     "output_type": "stream",
     "text": [
      "IRSTLM language model created at irstlm_bigram.lm\n"
     ]
    }
   ],
   "source": [
    "import os\n",
    "\n",
    "def create_irstlm_lm(input_file, output_file, order=2):\n",
    "    # Ensure IRSTLM binaries are in your PATH\n",
    "    irstlm_path = \"/path/to/irstlm/bin\"  # Update this path to IRSTLM installation path\n",
    "    os.environ[\"PATH\"] += os.pathsep + irstlm_path\n",
    "\n",
    "    # Prepare the language model\n",
    "    os.system(f\"build-lm.sh -i {input_file} -n {order} -o {output_file}.gz\")\n",
    "    os.system(f\"compile-lm --text {output_file}.gz {output_file}\")\n",
    "\n",
    "    print(f\"IRSTLM language model created at {output_file}\")\n",
    "\n",
    "# Example usage\n",
    "create_irstlm_lm('example_text.txt', 'irstlm_bigram.lm')\n"
   ]
  },
  {
   "cell_type": "markdown",
   "id": "638e2b5c",
   "metadata": {},
   "source": [
    "# KenLM"
   ]
  },
  {
   "cell_type": "code",
   "execution_count": 13,
   "id": "17126e09",
   "metadata": {},
   "outputs": [
    {
     "name": "stdout",
     "output_type": "stream",
     "text": [
      "KenLM language model created at kenlm_bigram.arpa\n"
     ]
    }
   ],
   "source": [
    "import os\n",
    "\n",
    "def create_kenlm_lm(input_file, output_file, order=2):\n",
    "    # Ensure KenLM binaries are in your PATH\n",
    "    kenlm_path = \"/path/to/kenlm/build/bin\"  # Update this path to KenLM installation path\n",
    "    os.environ[\"PATH\"] += os.pathsep + kenlm_path\n",
    "\n",
    "    # Build the language model\n",
    "    os.system(f\"lmplz -o {order} < {input_file} > {output_file}\")\n",
    "\n",
    "    print(f\"KenLM language model created at {output_file}\")\n",
    "\n",
    "# Example usage\n",
    "create_kenlm_lm('example_text.txt', 'kenlm_bigram.arpa')\n"
   ]
  },
  {
   "cell_type": "markdown",
   "id": "942a5817",
   "metadata": {},
   "source": [
    "# CMU SLM"
   ]
  },
  {
   "cell_type": "code",
   "execution_count": 12,
   "id": "7fc633d2",
   "metadata": {},
   "outputs": [
    {
     "name": "stdout",
     "output_type": "stream",
     "text": [
      "CMU SLM language model created at cmuslm_bigram.lm\n"
     ]
    }
   ],
   "source": [
    "import os\n",
    "\n",
    "def create_cmu_slm_lm(input_file, output_file, order=2):\n",
    "    # Ensure CMU SLM binaries are in your PATH\n",
    "    cmu_slm_path = \"/path/to/cmu-slm/bin\"  # Update this path to CMU SLM installation path\n",
    "    os.environ[\"PATH\"] += os.pathsep + cmu_slm_path\n",
    "\n",
    "    # Prepare the language model\n",
    "    os.system(f\"text2wfreq < {input_file} | wfreq2vocab > vocab\")\n",
    "    os.system(f\"text2idngram -vocab vocab -idngram bigram.idngram < {input_file}\")\n",
    "    os.system(f\"idngram2lm -vocab_type 0 -idngram bigram.idngram -vocab vocab -arpa {output_file}\")\n",
    "\n",
    "    print(f\"CMU SLM language model created at {output_file}\")\n",
    "\n",
    "# Example usage\n",
    "create_cmu_slm_lm('example_text.txt', 'cmuslm_bigram.lm')\n"
   ]
  }
 ],
 "metadata": {
  "kernelspec": {
   "display_name": "Python 3 (ipykernel)",
   "language": "python",
   "name": "python3"
  },
  "language_info": {
   "codemirror_mode": {
    "name": "ipython",
    "version": 3
   },
   "file_extension": ".py",
   "mimetype": "text/x-python",
   "name": "python",
   "nbconvert_exporter": "python",
   "pygments_lexer": "ipython3",
   "version": "3.11.5"
  }
 },
 "nbformat": 4,
 "nbformat_minor": 5
}
