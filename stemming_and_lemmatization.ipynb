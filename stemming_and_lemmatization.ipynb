{
 "cells": [
  {
   "cell_type": "code",
   "execution_count": 1,
   "id": "3d4079cd",
   "metadata": {},
   "outputs": [
    {
     "name": "stdout",
     "output_type": "stream",
     "text": [
      "Requirement already satisfied: python-docx in c:\\programdata\\anaconda3\\lib\\site-packages (1.1.2)\n",
      "Requirement already satisfied: lxml>=3.1.0 in c:\\programdata\\anaconda3\\lib\\site-packages (from python-docx) (4.9.3)\n",
      "Requirement already satisfied: typing-extensions>=4.9.0 in c:\\programdata\\anaconda3\\lib\\site-packages (from python-docx) (4.11.0)\n",
      "Note: you may need to restart the kernel to use updated packages.\n"
     ]
    }
   ],
   "source": [
    "pip install python-docx"
   ]
  },
  {
   "cell_type": "code",
   "execution_count": 2,
   "id": "1a2e606f",
   "metadata": {},
   "outputs": [
    {
     "name": "stderr",
     "output_type": "stream",
     "text": [
      "[nltk_data] Downloading package punkt to\n",
      "[nltk_data]     C:\\Users\\Administrator\\AppData\\Roaming\\nltk_data...\n",
      "[nltk_data]   Package punkt is already up-to-date!\n"
     ]
    },
    {
     "data": {
      "text/plain": [
       "True"
      ]
     },
     "execution_count": 2,
     "metadata": {},
     "output_type": "execute_result"
    }
   ],
   "source": [
    "import nltk\n",
    "nltk.download('punkt')"
   ]
  },
  {
   "cell_type": "code",
   "execution_count": 3,
   "id": "6dd4865c",
   "metadata": {},
   "outputs": [
    {
     "name": "stdout",
     "output_type": "stream",
     "text": [
      "Requirement already satisfied: PyPDF2 in c:\\programdata\\anaconda3\\lib\\site-packages (3.0.1)\n",
      "Note: you may need to restart the kernel to use updated packages.\n"
     ]
    }
   ],
   "source": [
    "pip install PyPDF2"
   ]
  },
  {
   "cell_type": "code",
   "execution_count": 1,
   "id": "0f8dcf83",
   "metadata": {},
   "outputs": [
    {
     "name": "stdout",
     "output_type": "stream",
     "text": [
      "File opened successfully.\n",
      "Total number of tokens: 7154\n",
      "Vocabulary size (Stemmed): 1071\n",
      "Vocabulary size (Lemmatized): 1239\n"
     ]
    }
   ],
   "source": [
    "import os\n",
    "import re\n",
    "import nltk\n",
    "from nltk.stem import PorterStemmer, WordNetLemmatizer\n",
    "from nltk.tokenize import word_tokenize, sent_tokenize\n",
    "import docx\n",
    "from PyPDF2 import PdfReader\n",
    "\n",
    "# Function to open files in PDF, TXT, or DOCX format\n",
    "def open_file(file_path):\n",
    "    file_extension = os.path.splitext(file_path)[1].lower()\n",
    "\n",
    "    if file_extension == '.pdf':\n",
    "        with open(file_path, 'rb') as file:\n",
    "            pdf_reader = PdfReader(file)\n",
    "            text = ''\n",
    "            for page_num in range(len(pdf_reader.pages)):\n",
    "                text += pdf_reader.pages[page_num].extract_text()\n",
    "        return text\n",
    "\n",
    "    elif file_extension == '.txt':\n",
    "        with open(file_path, 'r', encoding='utf-8') as file:\n",
    "            return file.read()\n",
    "\n",
    "    elif file_extension == '.docx':\n",
    "        doc = docx.Document(file_path)\n",
    "        text = ''\n",
    "        for paragraph in doc.paragraphs:\n",
    "            text += paragraph.text + '\\n'\n",
    "        return text\n",
    "\n",
    "    else:\n",
    "        return None\n",
    "\n",
    "# Provided text for stemmer and lemmatizer program\n",
    "provided_text = \"they lay back on the San Francisco grass and looked at the stars and their\"\n",
    "\n",
    "# Open file\n",
    "file_path = 'TheWayoftheBow-obooko-gen0024.docx'\n",
    "file_text = open_file(file_path)\n",
    "\n",
    "# Combine provided text with file text\n",
    "file_text += \" \" + provided_text\n",
    "\n",
    "if file_text is not None:\n",
    "    print(\"File opened successfully.\")\n",
    "else:\n",
    "    print(\"Unsupported file format.\")\n",
    "\n",
    "# Tokenize by words\n",
    "words = word_tokenize(file_text)\n",
    "\n",
    "# Total number of tokens\n",
    "total_tokens = len(words)\n",
    "\n",
    "# Convert to lowercase\n",
    "lowercase_words = [word.lower() for word in words]\n",
    "\n",
    "# Stemming and lemmatization\n",
    "porter_stemmer = PorterStemmer()\n",
    "wordnet_lemmatizer = WordNetLemmatizer()\n",
    "stemmed_words = [porter_stemmer.stem(word) for word in lowercase_words]\n",
    "lemmatized_words = [wordnet_lemmatizer.lemmatize(word) for word in lowercase_words]\n",
    "\n",
    "# Vocabulary size (types)\n",
    "unique_stemmed_words = set(stemmed_words)\n",
    "unique_lemmatized_words = set(lemmatized_words)\n",
    "vocabulary_size_stemmed = len(unique_stemmed_words)\n",
    "vocabulary_size_lemmatized = len(unique_lemmatized_words)\n",
    "\n",
    "print(\"Total number of tokens:\", total_tokens)\n",
    "print(\"Vocabulary size (Stemmed):\", vocabulary_size_stemmed)\n",
    "print(\"Vocabulary size (Lemmatized):\", vocabulary_size_lemmatized)"
   ]
  },
  {
   "cell_type": "code",
   "execution_count": null,
   "id": "e499a0fd",
   "metadata": {},
   "outputs": [],
   "source": []
  }
 ],
 "metadata": {
  "kernelspec": {
   "display_name": "Python 3 (ipykernel)",
   "language": "python",
   "name": "python3"
  },
  "language_info": {
   "codemirror_mode": {
    "name": "ipython",
    "version": 3
   },
   "file_extension": ".py",
   "mimetype": "text/x-python",
   "name": "python",
   "nbconvert_exporter": "python",
   "pygments_lexer": "ipython3",
   "version": "3.11.5"
  }
 },
 "nbformat": 4,
 "nbformat_minor": 5
}
