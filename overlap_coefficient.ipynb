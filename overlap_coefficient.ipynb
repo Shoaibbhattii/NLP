{
 "cells": [
  {
   "cell_type": "code",
   "execution_count": 5,
   "id": "97192de1",
   "metadata": {},
   "outputs": [
    {
     "name": "stdout",
     "output_type": "stream",
     "text": [
      "The Overlap Coefficient between 'intention' and 'execution' is: 0.625\n"
     ]
    }
   ],
   "source": [
    "def overlap_coefficient(s1, s2):\n",
    "    # Convert strings to sets of characters\n",
    "    set1 = set(s1)\n",
    "    set2 = set(s2)\n",
    "    \n",
    "    # Calculate intersection size\n",
    "    intersection_size = len(set1.intersection(set2))\n",
    "    \n",
    "    # Calculate overlap coefficient\n",
    "    overlap_coeff = intersection_size / len(set2)  # Using len(set2) as the denominator\n",
    "\n",
    "    return overlap_coeff\n",
    "\n",
    "# Example usage\n",
    "string1 = \"intention\"\n",
    "string2 = \"execution\"\n",
    "\n",
    "coeff = overlap_coefficient(string1, string2)\n",
    "print(f\"The Overlap Coefficient between '{string1}' and '{string2}' is: {coeff:.3f}\")\n"
   ]
  }
 ],
 "metadata": {
  "kernelspec": {
   "display_name": "Python 3 (ipykernel)",
   "language": "python",
   "name": "python3"
  },
  "language_info": {
   "codemirror_mode": {
    "name": "ipython",
    "version": 3
   },
   "file_extension": ".py",
   "mimetype": "text/x-python",
   "name": "python",
   "nbconvert_exporter": "python",
   "pygments_lexer": "ipython3",
   "version": "3.11.5"
  }
 },
 "nbformat": 4,
 "nbformat_minor": 5
}
