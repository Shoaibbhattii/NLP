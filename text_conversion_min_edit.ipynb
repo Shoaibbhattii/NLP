{
 "cells": [
  {
   "cell_type": "code",
   "execution_count": 1,
   "id": "19fb2593",
   "metadata": {},
   "outputs": [
    {
     "name": "stdout",
     "output_type": "stream",
     "text": [
      "[0, 1, 2, 3, 4, 5, 6, 7, 8, 9]\n",
      "[1, 1, 2, 3, 4, 5, 6, 6, 7, 8]\n",
      "[2, 2, 2, 3, 4, 5, 6, 7, 7, 7]\n",
      "[3, 3, 3, 3, 4, 5, 5, 6, 7, 8]\n",
      "[4, 3, 4, 3, 4, 5, 6, 6, 7, 8]\n",
      "[5, 4, 4, 4, 4, 5, 6, 7, 7, 7]\n",
      "[6, 5, 5, 5, 5, 5, 5, 6, 7, 8]\n",
      "[7, 6, 6, 6, 6, 6, 6, 5, 6, 7]\n",
      "[8, 7, 7, 7, 7, 7, 7, 6, 5, 6]\n",
      "[9, 8, 8, 8, 8, 8, 8, 7, 6, 5]\n"
     ]
    }
   ],
   "source": [
    "def min_edit_distance(X, Y):\n",
    "    m = len(X)\n",
    "    n = len(Y)\n",
    "    dp = [[0 for _ in range(n+1)] for _ in range(m+1)]\n",
    "    \n",
    "    for i in range(m+1):\n",
    "        for j in range(n+1):\n",
    "            if i == 0:\n",
    "                dp[i][j] = j\n",
    "            elif j == 0:\n",
    "                dp[i][j] = i\n",
    "            elif X[i-1] == Y[j-1]:\n",
    "                dp[i][j] = dp[i-1][j-1]\n",
    "            else:\n",
    "                dp[i][j] = 1 + min(dp[i][j-1], dp[i-1][j], dp[i-1][j-1])\n",
    "    \n",
    "    return dp\n",
    "\n",
    "# Convert the strings 'intention' into 'execution'\n",
    "X = \"intention\"\n",
    "Y = \"execution\"\n",
    "dp_table = min_edit_distance(X, Y)\n",
    "\n",
    "# Print the resulting table\n",
    "for row in dp_table:\n",
    "    print(row)\n"
   ]
  }
 ],
 "metadata": {
  "kernelspec": {
   "display_name": "Python 3 (ipykernel)",
   "language": "python",
   "name": "python3"
  },
  "language_info": {
   "codemirror_mode": {
    "name": "ipython",
    "version": 3
   },
   "file_extension": ".py",
   "mimetype": "text/x-python",
   "name": "python",
   "nbconvert_exporter": "python",
   "pygments_lexer": "ipython3",
   "version": "3.11.5"
  }
 },
 "nbformat": 4,
 "nbformat_minor": 5
}
